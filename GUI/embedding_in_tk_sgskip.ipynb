{
  "cells": [
    {
      "cell_type": "code",
      "execution_count": null,
      "metadata": {
        "collapsed": false
      },
      "outputs": [],
      "source": [
        "%matplotlib inline"
      ]
    },
    {
      "cell_type": "markdown",
      "metadata": {},
      "source": [
        "\n",
        "# Embedding in Tk\n",
        "\n"
      ]
    },
    {
      "cell_type": "code",
      "execution_count": 6,
      "metadata": {
        "collapsed": false
      },
      "outputs": [],
      "source": [
        "import tkinter\n",
        "\n",
        "from matplotlib.backends.backend_tkagg import (\n",
        "    FigureCanvasTkAgg, NavigationToolbar2Tk)\n",
        "# Implement the default Matplotlib key bindings.\n",
        "from matplotlib.backend_bases import key_press_handler\n",
        "from matplotlib.figure import Figure\n",
        "\n",
        "import numpy as np\n",
        "\n",
        "\n",
        "root = tkinter.Tk()\n",
        "root.wm_title(\"Embedding in Tk\")\n",
        "\n",
        "fig = Figure(figsize=(5, 4), dpi=100)\n",
        "t = np.arange(0, 3, .01)\n",
        "fig.add_subplot(111).plot(t, 2 * np.sin(2 * np.pi * t))\n",
        "\n",
        "canvas = FigureCanvasTkAgg(fig, master=root)  # A tk.DrawingArea.\n",
        "canvas.draw()\n",
        "canvas.get_tk_widget().pack(side=tkinter.TOP, fill=tkinter.BOTH, expand=1)\n",
        "\n",
        "toolbar = NavigationToolbar2Tk(canvas, root)\n",
        "toolbar.update()\n",
        "canvas.get_tk_widget().pack(side=tkinter.TOP, fill=tkinter.BOTH, expand=1)\n",
        "\n",
        "fig.add_subplot(111).plot(t, 2 * np.tan(2 * np.pi * t))\n",
        "\n",
        "\n",
        "def on_key_press(event):\n",
        "    print(\"you pressed {}\".format(event.key))\n",
        "    key_press_handler(event, canvas, toolbar)\n",
        "\n",
        "\n",
        "canvas.mpl_connect(\"key_press_event\", on_key_press)\n",
        "\n",
        "\n",
        "def _quit():\n",
        "    root.quit()     # stops mainloop\n",
        "    root.destroy()  # this is necessary on Windows to prevent\n",
        "                    # Fatal Python Error: PyEval_RestoreThread: NULL tstate\n",
        "\n",
        "\n",
        "button = tkinter.Button(master=root, text=\"Quit\", command=_quit)\n",
        "button.pack(side=tkinter.BOTTOM)\n",
        "\n",
        "tkinter.mainloop()\n",
        "# If you put root.destroy() here, it will cause an error if the window is\n",
        "# closed with the window manager."
      ]
    },
    {
      "cell_type": "code",
      "execution_count": null,
      "metadata": {},
      "outputs": [],
      "source": []
    }
  ],
  "metadata": {
    "kernelspec": {
      "name": "python3",
      "display_name": "Python 3.9.4 64-bit ('GPU': conda)"
    },
    "language_info": {
      "codemirror_mode": {
        "name": "ipython",
        "version": 3
      },
      "file_extension": ".py",
      "mimetype": "text/x-python",
      "name": "python",
      "nbconvert_exporter": "python",
      "pygments_lexer": "ipython3",
      "version": "3.9.4"
    },
    "interpreter": {
      "hash": "820840731b80ff13606ca4eb08b3b77f43cb8cf01365c7ada1fa6bdeb13698f2"
    }
  },
  "nbformat": 4,
  "nbformat_minor": 0
}